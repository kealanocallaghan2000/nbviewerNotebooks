{
 "cells": [
  {
   "cell_type": "markdown",
   "id": "20177381-3379-44c8-8597-bd6b8ae1d4ce",
   "metadata": {},
   "source": [
    "# Quantum Computing \n",
    "https://en.wikipedia.org/wiki/Quantum_computing\n",
    "***\n"
   ]
  },
  {
   "cell_type": "markdown",
   "id": "088e0d5a-86e8-475e-a766-0e174a6a5316",
   "metadata": {},
   "source": [
    "### What is Quantum computing?\n",
    "Quantum computing uses the phenomena of quantum mechanics and mathematics to deliver a huge leap forward in computation to solve certain issues."
   ]
  },
  {
   "cell_type": "markdown",
   "id": "fefb2e8d-5120-45d1-93ee-9560fa67350e",
   "metadata": {},
   "source": [
    "### What is a Quantum computer?\n",
    "Quantum computers are computers which use quantum physics to store data and perform tasks.  In a quantum computer, the basic unit of memory is a quantum bit or qubit. Qubits are made using physical systems, such as the spin of an electron or the orientation of a photon.\n"
   ]
  },
  {
   "cell_type": "markdown",
   "id": "1f454763-a973-4f7b-af6b-32cce1834f40",
   "metadata": {},
   "source": [
    "### What is a Qubit?\n",
    "Instead of bits, which conventional computers use, a quantum computer uses quantum bits—known as qubits.  This means that a computer using qubits can store an enormous amount of information and uses less energy doing so than a classical computer. This also means they have the potential to process a lot more data compared to classical computers."
   ]
  },
  {
   "cell_type": "markdown",
   "id": "3025fd19-5d5d-499f-8895-cf2fc0363f2d",
   "metadata": {},
   "source": [
    "### What is the difference between a Quantum and Classical computer?\n",
    "<table>\n",
    "<tr>\n",
    "<td>Quantum Computer</td>\n",
    "<td>Classical Computer</td>\n",
    "</tr>\n",
    "<tr>\n",
    "<td>Calculates with qubits, which can represent 0 and 1 at the same time</td>\n",
    "<td>Calculates with transistors, which can represent either 0 or 1</td>\n",
    "</tr>  \n",
    "<tr>\n",
    "<td>Power increases exponentially in proportion to the number of qubits</td>\n",
    "<td>Power increases in a 1:1 relationship with the number of transistors</td>\n",
    "</tr>\n",
    "<tr>\n",
    "<td>Quantum computers have high error rates and need to be kept extremely cold </td>\n",
    "<td>Classical computers have low error rates and can operate at room temp</td>\n",
    "</tr>\n",
    "<tr>\n",
    "<td>Well suited for tasks like optimization problems, data analysis and simulations </td>\n",
    "<td>Most everyday processing is best handled on a classical computer</td>\n",
    "</tr>  \n",
    "</table>"
   ]
  },
  {
   "cell_type": "markdown",
   "id": "7a48849c-25a5-4fed-aea5-a2766ab9eedf",
   "metadata": {},
   "source": [
    "***\n",
    "## Deutsch's Algorithm\n",
    "https://en.wikipedia.org/wiki/Deutsch%E2%80%93Jozsa_algorithm"
   ]
  },
  {
   "cell_type": "markdown",
   "id": "d374ad09-206d-4adc-8cfd-868cec173cd0",
   "metadata": {},
   "source": [
    "Deutsch's algorithm is special as it was the first algorithm to prove that quantum computers could solve computations faster than conventional computers.  The algorithm solves the following problem in classical computers:"
   ]
  },
  {
   "cell_type": "markdown",
   "id": "88f18f4c-3be0-48f1-aca8-81b5f796ebc2",
   "metadata": {},
   "source": [
    "Pretend you have a hundred hands in front of you, each hand holding a heads or tails coin. On a classical computer, you would have to search through all of the hands. What if I told you that with a quantum computer, solving this problem can be done by opening all hands at once simultaneously. This is the problem a quantum computer can solve."
   ]
  },
  {
   "cell_type": "markdown",
   "id": "3de3be9b-3498-452a-9d64-3122884a76c6",
   "metadata": {},
   "source": [
    "**The problem**: Imagine someone is hiding a coin in each of their hands. The coin, when revealed, can be either heads or tails. Since there are two coins, there are 4 possible results in the sample space as given below."
   ]
  },
  {
   "cell_type": "markdown",
   "id": "9e36b943-2e0d-4f4b-9a47-267651449920",
   "metadata": {},
   "source": [
    "<table>\n",
    "<tr>\n",
    "<td>Left hand</td>\n",
    "<td>Right hand</td>\n",
    "</tr>\n",
    "<tr>\n",
    "<td>Heads </td>\n",
    "<td>Heads</td>\n",
    "</tr>  \n",
    "<tr>\n",
    "<td>Tails </td>\n",
    "<td>Heads</td>\n",
    "</tr>\n",
    "<tr>\n",
    "<td>Heads </td>\n",
    "<td>Tails</td>\n",
    "</tr>\n",
    "<tr>\n",
    "<td>Tails </td>\n",
    "<td>Tails</td>\n",
    "</tr>  \n",
    "</table>"
   ]
  },
  {
   "cell_type": "markdown",
   "id": "89720f7c-ea69-48e9-9393-7069b6a0a3c1",
   "metadata": {},
   "source": [
    "The first and fourth outcome is an example of a constant outcome, whereas the second and third are balanced outcomes. If I were to reveal my left hand, and say it was heads, there is still not enough information to determine the value of the coin in the right hand. Imagine if there were 100 hands in front of you and you had to search through each of the hands one at a time. There are 2100 results in the sample space of all possible outcomes. In the worst case, you would have to look until the 51st hand, because if the first 50 were heads, the 51st would indicate whether the outcome is balanced(tails) or constant(heads)."
   ]
  },
  {
   "cell_type": "markdown",
   "id": "3c24d3e0-65a3-4e51-b980-dc36421bc745",
   "metadata": {},
   "source": [
    "Let us substitute heads with 0 and tails with 1, since there can only be two possible outcomes.\n",
    "\n",
    "Then the result of each hand can be the result of applying a function 𝑓 to a set of inputs which maps a single bit(0 or 1) to 𝑓(0) or 𝑓(1). If 𝑓(0)=𝑓(1) then f is constant otherwise it is balanced."
   ]
  },
  {
   "cell_type": "markdown",
   "id": "d871d661-dca5-4809-845d-ddd3ab776866",
   "metadata": {},
   "source": [
    "<table>\n",
    "<tr>\n",
    "<td>f(0)</td>\n",
    "<td>f(1)</td>\n",
    "</tr>\n",
    "<tr>\n",
    "<td>0 </td>\n",
    "<td>0</td>\n",
    "</tr>  \n",
    "<tr>\n",
    "<td>0 </td>\n",
    "<td>1</td>\n",
    "</tr>\n",
    "<tr>\n",
    "<td>1 </td>\n",
    "<td>0</td>\n",
    "</tr>\n",
    "<tr>\n",
    "<td>1 </td>\n",
    "<td>1</td>\n",
    "</tr>  \n",
    "</table>"
   ]
  },
  {
   "cell_type": "markdown",
   "id": "04dce956-ca16-4c57-b40b-3638d5b8df3f",
   "metadata": {},
   "source": [
    "We can think of this function as a black box, or oracle, that is hidden from us. In the black box we don't know whether the function is hidden, constant or balanced."
   ]
  },
  {
   "cell_type": "markdown",
   "id": "f878db2a-1633-4a28-b248-0992e925aec8",
   "metadata": {},
   "source": [
    "### Simulating Deutsch's Algorithm with Qiskit"
   ]
  },
  {
   "cell_type": "code",
   "execution_count": 6,
   "id": "b6a3bde4-12ba-4a5d-af5a-87f56c4d62a1",
   "metadata": {},
   "outputs": [],
   "source": [
    "# Qiskit itself\n",
    "import qiskit"
   ]
  },
  {
   "cell_type": "code",
   "execution_count": 7,
   "id": "a3004481-4d9d-4c09-8470-5fe514ef0e5d",
   "metadata": {},
   "outputs": [],
   "source": [
    "# Aer simulator \n",
    "import qiskit.providers.aer as aer"
   ]
  },
  {
   "cell_type": "code",
   "execution_count": 8,
   "id": "eaaba661-789a-4565-9697-9b6228817d9f",
   "metadata": {},
   "outputs": [],
   "source": [
    "# Diagrams\n",
    "import matplotlib\n",
    "import matplotlib.pyplot as plt"
   ]
  },
  {
   "cell_type": "code",
   "execution_count": 9,
   "id": "4dd3e570-1c2c-4d9b-91ad-60fb73ee0b19",
   "metadata": {},
   "outputs": [],
   "source": [
    "plt.style.use('ggplot')"
   ]
  },
  {
   "cell_type": "markdown",
   "id": "70f8b85c-b40b-4d97-a666-8dba1d88b50c",
   "metadata": {},
   "source": [
    "## Preliminaries\n"
   ]
  },
  {
   "cell_type": "markdown",
   "id": "3f26cf61-c1a8-4970-9461-892a028d928d",
   "metadata": {},
   "source": [
    "### Qubits\n",
    "***\n",
    "\n",
    "$|0 \\rangle = \\begin{bmatrix} 1 \\\\ 0 \\end{bmatrix}$\n",
    "\n",
    "$|1 \\rangle = \\begin{bmatrix} 0 \\\\ 1 \\end{bmatrix}$\n",
    "\n",
    "$|\\psi \\rangle = \\begin{bmatrix} \\alpha \\\\ \\beta \\end{bmatrix}$ \n",
    "\n",
    "$\\alpha = a + bi \\qquad \\beta = c + di \\qquad a,b,c,d \\in \\mathbb{R}$\n",
    "\n",
    "$ \\alpha^2 + \\beta^2 = 1$"
   ]
  },
  {
   "cell_type": "markdown",
   "id": "0ea3db3d-0428-497c-9470-20e8b4dece58",
   "metadata": {},
   "source": [
    "\n",
    "\n",
    "### Gates\n",
    "***\n",
    "##### Hadamard Gate\n",
    "Now we will create a superposition state using Hadamard Gates so that we can iterate through all 4 states of the 2 qubit system at once. Hadamard gate can be used to convert the qubit from clustering state to uniform superposed state.\n",
    "\n",
    "$ H = \\begin{bmatrix} \\frac{1}{\\sqrt{2}} & \\frac{1}{\\sqrt{2}} \\\\ \\frac{1}{\\sqrt{2}} & -\\frac{1}{\\sqrt{2}} \\end{bmatrix} = \\frac{1}{\\sqrt{2}} \\begin{bmatrix} 1 & 1 \\\\ 1 & -1 \\end{bmatrix}$\n",
    "\n",
    "$ H | 0 \\rangle = \\frac{1}{\\sqrt{2}} \\begin{bmatrix} 1 & 1 \\\\ 1 & -1 \\end{bmatrix} \\begin{bmatrix} 1 \\\\ 0 \\end{bmatrix} = \\frac{1}{\\sqrt{2}} \\begin{bmatrix} 1 \\\\ 1\\end{bmatrix} = \\begin{bmatrix} \\frac{1}{\\sqrt{2}} \\\\ \\frac{1}{\\sqrt{2}}\\end{bmatrix} = |+ \\rangle$\n",
    "\n",
    "$ H | 1 \\rangle = \\frac{1}{\\sqrt{2}} \\begin{bmatrix} 1 & 1 \\\\ 1 & -1 \\end{bmatrix} \\begin{bmatrix} 0 \\\\ 1 \\end{bmatrix} = \\frac{1}{\\sqrt{2}} \\begin{bmatrix} 1 \\\\ -1\\end{bmatrix} = \\begin{bmatrix} \\frac{1}{\\sqrt{2}} \\\\ -\\frac{1}{\\sqrt{2}}\\end{bmatrix} = |-\\rangle$\n",
    "\n",
    "$H^* = H^{-1}$\n",
    "\n",
    "$(a+bi)^* = a -bi$\n",
    "\n",
    "$ I = \\begin{bmatrix} 1 & 0 \\\\ 0 & 1 \\end{bmatrix}$"
   ]
  },
  {
   "cell_type": "markdown",
   "id": "173eeb0b-b4d3-4e11-9f32-3144370e2d84",
   "metadata": {},
   "source": [
    "<br>\n",
    "\n",
    "### Measurement\n",
    "***\n",
    "\n",
    "$ |\\psi\\rangle = \\begin{bmatrix} \\alpha \\\\ \\beta \\end{bmatrix} \\Leftrightarrow \\langle \\psi | = \\begin{bmatrix} \\alpha^* & \\beta^* \\end{bmatrix}$\n",
    "\n",
    "\n",
    "\n",
    "Form the braket, take its magnitude and square it\n",
    "##### Probability of measurring 0 when in the + state \n",
    "\n",
    "  $|\\langle 0 | + \\rangle |^2 = | \\begin{bmatrix} 1 & 0 \\end{bmatrix} \\begin{bmatrix} \\frac{1}{\\sqrt{2}} \\\\ \\frac{1}{\\sqrt{2}} \\end{bmatrix} |^2 = |(1)(\\frac{1}{\\sqrt{2}}) (0)(\\frac{1}{\\sqrt{2}})|^2 = (\\frac{1}{\\sqrt{2}})^2 = \\frac{1}{2}$  \n",
    "  \n",
    "\n",
    "  \n",
    "##### Probability of measurring 1 when in the - state (visa versa) \n",
    "\n",
    "\n",
    "$|\\langle 1 | - \\rangle |^2 = | \\begin{bmatrix} 0 & 1 \\end{bmatrix} \\begin{bmatrix} \\frac{1}{\\sqrt{2}} \\\\ -\\frac{1}{\\sqrt{2}} \\end{bmatrix} |^2 = |(0)(\\frac{1}{\\sqrt{2}}) (1)(-\\frac{1}{\\sqrt{2}})|^2 = (-\\frac{1}{\\sqrt{2}})^2 = \\frac{1}{2}$\n",
    "\n",
    "$|a+bi| = \\sqrt{(a+bi)  (a-bi)} = \\sqrt{a^2 + b^2}$"
   ]
  },
  {
   "cell_type": "markdown",
   "id": "44c8476b-922c-4986-a803-375a87e9432e",
   "metadata": {},
   "source": [
    "## Multiple qubits\n",
    "***\n",
    "#### To represent multiple qubits at one time, we take the Kronecker product\n",
    "The Kronecker product is an operation that transforms two matrices into a larger matrix that contains all the possible products of the entries of the two matrices. It possesses several properties that are often used to solve difficult problems in linear algebra and its applications.\n",
    "\n",
    "\n",
    "First qubit: $0\\rangle = \\begin{bmatrix} 1 \\\\ 0 \\end{bmatrix}$\n",
    "\n",
    "Second qubit: $1\\rangle = \\begin{bmatrix} 0 \\\\ 1 \\end{bmatrix}$\n",
    "\n",
    "Together: $|01\\rangle = |0\\rangle \\bigotimes 1 \\rangle = \\begin{bmatrix} 1 \\begin{bmatrix} 0 \\\\ 1 \\end{bmatrix} \\\\ 0 \\begin{bmatrix} 0 \\\\ 1 \\end{bmatrix} \\end{bmatrix} = \\begin{bmatrix} (1)(0) \\\\ (1)(1) \\\\ (0)(1)\\\\ (0)(0)\\end{bmatrix} = \\begin{bmatrix} 0 \\\\ 1 \\\\ 0\\\\ 0\\end{bmatrix}$"
   ]
  },
  {
   "cell_type": "markdown",
   "id": "aff1d7df-35a7-4331-8ed9-6ca16947dbfa",
   "metadata": {},
   "source": [
    "##### CNOT gate\n",
    "***\n",
    "The controlled NOT gate is a quantum logic gate that is an essential component in the construction of a gate-based quantum computer. It can be used to entangle and disentangle Bell states.\n",
    "\n",
    "$CNOT = \\begin{bmatrix} 1 & 0 & 0 & 0 \\\\ 0 & 1 & 0 & 0 \\\\ 0 & 0 & 0 & 1 \\\\0 & 0 & 1 & 0 \\end{bmatrix}$\n",
    "\n",
    "###### How 2 qubits interact with eachother\n",
    "\n",
    "$CNOT \\times |01\\rangle = \\begin{bmatrix} 1 & 0 & 0 & 0 \\\\ 0 & 1 & 0 & 0 \\\\ 0 & 0 & 0 & 1 \\\\0 & 0 & 1 & 0 \\end{bmatrix} \\begin{bmatrix} 0 \\\\ 1 \\\\ 0\\\\ 0 \\end{bmatrix} = \\begin{bmatrix} 0 \\\\ 1 \\\\ 0\\\\ 0 \\end{bmatrix} = |01\\rangle$\n",
    "\n",
    "$CNOT \\times |10\\rangle = \\begin{bmatrix} 1 & 0 & 0 & 0 \\\\ 0 & 1 & 0 & 0 \\\\ 0 & 0 & 0 & 1 \\\\0 & 0 & 1 & 0 \\end{bmatrix} \\begin{bmatrix} 0 \\\\ 0 \\\\ 1 \\\\ 0 \\end{bmatrix} = \\begin{bmatrix} 0 \\\\ 0 \\\\ 0\\\\ 1 \\end{bmatrix} = |11\\rangle$"
   ]
  },
  {
   "cell_type": "markdown",
   "id": "e3a09d8e-8b39-47dc-9ce6-0d0af9932471",
   "metadata": {},
   "source": [
    "<br>\n",
    "\n",
    "## $H$ followed by $CNOT$\n",
    "\n",
    "***\n",
    "\n",
    "$H \\bigotimes H = \\begin{bmatrix} \\frac{1}{\\sqrt{2}} \\begin{bmatrix} \\frac{1}{\\sqrt{2}} & \\frac{1}{\\sqrt{2}} \\\\ \\frac{1}{\\sqrt{2}} & -\\frac{1}{\\sqrt{2}} \\end{bmatrix} & \\frac{1}{\\sqrt{2}} \\begin{bmatrix} \\frac{1}{\\sqrt{2}} & \\frac{1}{\\sqrt{2}} \\\\ \\frac{1}{\\sqrt{2}} & -\\frac{1}{\\sqrt{2}} \\end{bmatrix}  \\\\ \\frac{1}{\\sqrt{2}} \\begin{bmatrix} \\frac{1}{\\sqrt{2}} & \\frac{1}{\\sqrt{2}} \\\\ \\frac{1}{\\sqrt{2}} & -\\frac{1}{\\sqrt{2}} \\end{bmatrix} & -\\frac{1}{\\sqrt{2}} \\begin{bmatrix} \\frac{1}{\\sqrt{2}} & \\frac{1}{\\sqrt{2}} \\\\ \\frac{1}{\\sqrt{2}} & -\\frac{1}{\\sqrt{2}} \\end{bmatrix}\\end{bmatrix}$"
   ]
  },
  {
   "cell_type": "markdown",
   "id": "e54e7656-6cf0-4558-b573-f174d4ef92ac",
   "metadata": {},
   "source": [
    "<br>\n",
    "\n",
    "## Constant zero function\n",
    "***"
   ]
  },
  {
   "cell_type": "code",
   "execution_count": 10,
   "id": "1784d656-e2a0-4825-a986-7e46a734a4f5",
   "metadata": {},
   "outputs": [],
   "source": [
    "# Create a quantum circuit\n",
    "circuit = qiskit.QuantumCircuit(2, 1)"
   ]
  },
  {
   "cell_type": "code",
   "execution_count": 11,
   "id": "ee315e89-7df9-42af-8ccd-c933d88ac19d",
   "metadata": {},
   "outputs": [
    {
     "data": {
      "text/plain": [
       "<qiskit.circuit.instructionset.InstructionSet at 0x2287eed8d30>"
      ]
     },
     "execution_count": 11,
     "metadata": {},
     "output_type": "execute_result"
    }
   ],
   "source": [
    "# Initialise the first (0) qubit to 0.\n",
    "circuit.initialize([1, 0] , 0)"
   ]
  },
  {
   "cell_type": "code",
   "execution_count": 12,
   "id": "830c8d8a-baa5-4e56-ba31-fe1595f01f30",
   "metadata": {},
   "outputs": [
    {
     "data": {
      "text/plain": [
       "<qiskit.circuit.instructionset.InstructionSet at 0x2287e480fd0>"
      ]
     },
     "execution_count": 12,
     "metadata": {},
     "output_type": "execute_result"
    }
   ],
   "source": [
    "# Initialise the second (1) qubit to 1.\n",
    "circuit.initialize([0, 1] , 1)"
   ]
  },
  {
   "cell_type": "code",
   "execution_count": 13,
   "id": "c485ac52-f7ad-440a-a2a0-ec06e7b0f2ca",
   "metadata": {},
   "outputs": [
    {
     "data": {
      "text/plain": [
       "<qiskit.circuit.instructionset.InstructionSet at 0x228592a7730>"
      ]
     },
     "execution_count": 13,
     "metadata": {},
     "output_type": "execute_result"
    }
   ],
   "source": [
    "# Apply a Hadamard gate to first qubit\n",
    "circuit.h(0)"
   ]
  },
  {
   "cell_type": "code",
   "execution_count": 14,
   "id": "4b15215b-2bd9-4241-9942-e1cde42c9a64",
   "metadata": {},
   "outputs": [
    {
     "data": {
      "text/plain": [
       "<qiskit.circuit.instructionset.InstructionSet at 0x2287eed8a00>"
      ]
     },
     "execution_count": 14,
     "metadata": {},
     "output_type": "execute_result"
    }
   ],
   "source": [
    "# Apply a Hadamard gate to first qubit\n",
    "circuit.h(1)"
   ]
  },
  {
   "cell_type": "code",
   "execution_count": 15,
   "id": "c4a24fc0-5e59-467d-8e52-639330299b60",
   "metadata": {},
   "outputs": [
    {
     "data": {
      "text/plain": [
       "<qiskit.circuit.instructionset.InstructionSet at 0x228412b3d00>"
      ]
     },
     "execution_count": 15,
     "metadata": {},
     "output_type": "execute_result"
    }
   ],
   "source": [
    "# Apply another Hadamard gate to first qubit\n",
    "circuit.h(0)"
   ]
  },
  {
   "cell_type": "code",
   "execution_count": 16,
   "id": "d0fe4076-904c-414a-930c-20ac71f3f2f4",
   "metadata": {},
   "outputs": [
    {
     "data": {
      "text/plain": [
       "<qiskit.circuit.instructionset.InstructionSet at 0x2287eed8d90>"
      ]
     },
     "execution_count": 16,
     "metadata": {},
     "output_type": "execute_result"
    }
   ],
   "source": [
    "# Measure the first qubit\n",
    "circuit.measure(0, 0)"
   ]
  },
  {
   "cell_type": "code",
   "execution_count": 17,
   "id": "ac1c0e3f-e53e-4b0f-8efc-123a1fde4f57",
   "metadata": {},
   "outputs": [
    {
     "data": {
      "image/png": "[encoded data removed]",
      "text/plain": [
       "<Figure size 589.054x368.424 with 1 Axes>"
      ]
     },
     "execution_count": 17,
     "metadata": {},
     "output_type": "execute_result"
    }
   ],
   "source": [
    "# draw the circuit\n",
    "circuit.draw(output='mpl', scale=1.8)"
   ]
  },
  {
   "cell_type": "code",
   "execution_count": 18,
   "id": "03a87f2f-8140-4a49-8df3-7c8fced15c96",
   "metadata": {},
   "outputs": [],
   "source": [
    "# Create a simulation instance\n",
    "simulator = aer.QasmSimulator()"
   ]
  },
  {
   "cell_type": "code",
   "execution_count": 19,
   "id": "8e77dd84-9f21-4921-b209-1e652d6f42a0",
   "metadata": {},
   "outputs": [],
   "source": [
    "# Compile the circuit in the simulator\n",
    "compcircuit = qiskit.transpile(circuit, simulator)"
   ]
  },
  {
   "cell_type": "code",
   "execution_count": 20,
   "id": "59f72bde-07b9-41d2-9900-6aefe147dc08",
   "metadata": {},
   "outputs": [],
   "source": [
    "# Simulate the circuit 500 times\n",
    "job = simulator.run(compcircuit, shots=500)"
   ]
  },
  {
   "cell_type": "code",
   "execution_count": 21,
   "id": "a01fd507-9f2a-4788-9020-d1c584e1e7fc",
   "metadata": {},
   "outputs": [],
   "source": [
    "# get results\n",
    "results = job.result()"
   ]
  },
  {
   "cell_type": "code",
   "execution_count": 22,
   "id": "0bdb42f3-64da-481f-bb3b-5a398c15f46a",
   "metadata": {},
   "outputs": [],
   "source": [
    "# Show the result counts\n",
    "counts = results.get_counts()"
   ]
  },
  {
   "cell_type": "code",
   "execution_count": 23,
   "id": "35d0d5a0-f7bc-4470-9a3a-49c1c4ac4eb8",
   "metadata": {},
   "outputs": [
    {
     "data": {
      "image/png": "[encoded data removed]",
      "text/plain": [
       "<Figure size 72x288 with 1 Axes>"
      ]
     },
     "execution_count": 23,
     "metadata": {},
     "output_type": "execute_result"
    }
   ],
   "source": [
    "# Display Histogram\n",
    "qiskit.visualization.plot_histogram(counts, figsize=(1,4))"
   ]
  },
  {
   "cell_type": "markdown",
   "id": "5ca7a900-7568-40b8-8cdb-ca79827a859c",
   "metadata": {},
   "source": [
    "<br>\n",
    "\n",
    "## Constant one function\n",
    "***"
   ]
  },
  {
   "cell_type": "code",
   "execution_count": 24,
   "id": "6b1b9f5f-188f-417c-ac03-539fac0ae2eb",
   "metadata": {},
   "outputs": [
    {
     "data": {
      "image/png": "[encoded data removed]",
      "text/plain": [
       "<Figure size 589.054x368.424 with 1 Axes>"
      ]
     },
     "execution_count": 24,
     "metadata": {},
     "output_type": "execute_result"
    }
   ],
   "source": [
    "# Create a quantum circuit\n",
    "circuit = qiskit.QuantumCircuit(2, 1)\n",
    "\n",
    "# Initialise the first (0) qubit to 0.\n",
    "circuit.initialize([1, 0] , 0)\n",
    "\n",
    "# Initialise the second (1) qubit to 1.\n",
    "circuit.initialize([0, 1] , 1)\n",
    "\n",
    "# Apply a Hadamard gate to first qubit\n",
    "circuit.h((0, 1))\n",
    "\n",
    "# x gate\n",
    "circuit.x(1)\n",
    "\n",
    "# Apply another Hadamard gate to first qubit\n",
    "circuit.h(0)\n",
    "\n",
    "# Measure the first qubit only\n",
    "circuit.measure(0, 0)\n",
    "\n",
    "# draw the circuit\n",
    "circuit.draw(output='mpl', scale=1.8)"
   ]
  },
  {
   "cell_type": "code",
   "execution_count": 25,
   "id": "2b2578e5-f284-4c1d-bac4-6df5afe3e123",
   "metadata": {},
   "outputs": [
    {
     "data": {
      "image/png": "[encoded data removed]",
      "text/plain": [
       "<Figure size 72x288 with 1 Axes>"
      ]
     },
     "execution_count": 25,
     "metadata": {},
     "output_type": "execute_result"
    }
   ],
   "source": [
    "# Create a simulation instance\n",
    "simulator = aer.QasmSimulator()\n",
    "\n",
    "# Compile the circuit in the simulator\n",
    "compcircuit = qiskit.transpile(circuit, simulator)\n",
    "\n",
    "# Simulate the circuit 500 times\n",
    "job = simulator.run(compcircuit, shots=500)\n",
    "\n",
    "# get results\n",
    "results = job.result()\n",
    "\n",
    "counts = results.get_counts()\n",
    "\n",
    "# Display Histogram\n",
    "qiskit.visualization.plot_histogram(counts, figsize=(1,4))"
   ]
  },
  {
   "cell_type": "markdown",
   "id": "cd211428-96bf-48b0-bb64-c05452848550",
   "metadata": {},
   "source": [
    "<br>\n",
    "\n",
    "## Balanced: $f(0) = 0, f(1) = 1$\n",
    "\n",
    "*** "
   ]
  },
  {
   "cell_type": "code",
   "execution_count": 26,
   "id": "c9bcef38-bdf6-4a93-a471-8854e393c6ae",
   "metadata": {},
   "outputs": [
    {
     "data": {
      "image/png": "[encoded data removed]",
      "text/plain": [
       "<Figure size 697.414x368.424 with 1 Axes>"
      ]
     },
     "execution_count": 26,
     "metadata": {},
     "output_type": "execute_result"
    }
   ],
   "source": [
    "# Create a quantum circuit\n",
    "circuit = qiskit.QuantumCircuit(2, 1)\n",
    "\n",
    "# Initialise the first (0) qubit to 0.\n",
    "circuit.initialize([1, 0] , 0)\n",
    "\n",
    "# Initialise the second (1) qubit to 1.\n",
    "circuit.initialize([0, 1] , 1)\n",
    "\n",
    "# Apply a Hadamard gate to first qubit\n",
    "circuit.h((0, 1))\n",
    "\n",
    "# c not gate needs two cubits for input\n",
    "circuit.cnot(0, 1)\n",
    "\n",
    "# Apply another Hadamard gate to first qubit\n",
    "circuit.h(0)\n",
    "\n",
    "# Measure the first qubit only\n",
    "circuit.measure(0, 0)\n",
    "\n",
    "# draw the circuit\n",
    "circuit.draw(output='mpl', scale=1.8)\n"
   ]
  },
  {
   "cell_type": "code",
   "execution_count": 27,
   "id": "18bc444d-d0ac-4d0f-a0c1-4a49d36e8c26",
   "metadata": {},
   "outputs": [
    {
     "data": {
      "image/png": "[encoded data removed]",
      "text/plain": [
       "<Figure size 72x288 with 1 Axes>"
      ]
     },
     "execution_count": 27,
     "metadata": {},
     "output_type": "execute_result"
    }
   ],
   "source": [
    "# Create a simulation instance\n",
    "simulator = aer.QasmSimulator()\n",
    "\n",
    "# Compile the circuit in the simulator\n",
    "compcircuit = qiskit.transpile(circuit, simulator)\n",
    "\n",
    "# Simulate the circuit 500 times\n",
    "job = simulator.run(compcircuit, shots=1000)\n",
    "\n",
    "# get results\n",
    "results = job.result()\n",
    "\n",
    "counts = results.get_counts()\n",
    "\n",
    "# Display Histogram\n",
    "qiskit.visualization.plot_histogram(counts, figsize=(1,4))"
   ]
  },
  {
   "cell_type": "markdown",
   "id": "144793ef-9ced-469a-af5a-ebb52ec5f3ea",
   "metadata": {},
   "source": [
    "<br>\n",
    "\n",
    "## Balanced: $f(0) = 1, f(1) = 0$\n",
    "\n",
    "*** "
   ]
  },
  {
   "cell_type": "code",
   "execution_count": 28,
   "id": "62ce524d-df42-4621-a4bb-392e85dfd9a0",
   "metadata": {},
   "outputs": [
    {
     "data": {
      "image/png": "[encoded data removed]",
      "text/plain": [
       "<Figure size 697.414x368.424 with 1 Axes>"
      ]
     },
     "execution_count": 28,
     "metadata": {},
     "output_type": "execute_result"
    }
   ],
   "source": [
    "# Create a quantum circuit\n",
    "circuit = qiskit.QuantumCircuit(2, 1)\n",
    "\n",
    "# Initialise the first (0) qubit to 0.\n",
    "circuit.initialize([1, 0] , 0)\n",
    "\n",
    "# Initialise the second (1) qubit to 1.\n",
    "circuit.initialize([0, 1] , 1)\n",
    "\n",
    "# Apply a Hadamard gate to first qubit\n",
    "circuit.h((0, 1))\n",
    "\n",
    "# c not gate needs two cubits for input\n",
    "circuit.cnot(0, 1)\n",
    "\n",
    "# apply x to second qubit\n",
    "circuit.x(1)\n",
    "\n",
    "# Apply another Hadamard gate to first qubit\n",
    "circuit.h(0)\n",
    "\n",
    "# Measure the first qubit only\n",
    "circuit.measure(0, 0)\n",
    "\n",
    "# draw the circuit\n",
    "circuit.draw(output='mpl', scale=1.8)"
   ]
  },
  {
   "cell_type": "code",
   "execution_count": 29,
   "id": "c8ed1d13-ccd8-4f63-a536-27c7d21699c3",
   "metadata": {},
   "outputs": [
    {
     "data": {
      "image/png": "[encoded data removed]",
      "text/plain": [
       "<Figure size 72x288 with 1 Axes>"
      ]
     },
     "execution_count": 29,
     "metadata": {},
     "output_type": "execute_result"
    }
   ],
   "source": [
    "# Create a simulation instance\n",
    "simulator = aer.QasmSimulator()\n",
    "\n",
    "# Compile the circuit in the simulator\n",
    "compcircuit = qiskit.transpile(circuit, simulator)\n",
    "\n",
    "# Simulate the circuit 500 times\n",
    "job = simulator.run(compcircuit, shots=1000)\n",
    "\n",
    "# get results\n",
    "results = job.result()\n",
    "\n",
    "counts = results.get_counts()\n",
    "\n",
    "# Display Histogram\n",
    "qiskit.visualization.plot_histogram(counts, figsize=(1,4))"
   ]
  },
  {
   "cell_type": "markdown",
   "id": "1880b015-5b57-4484-8e2c-bd8f98f5bdd0",
   "metadata": {},
   "source": [
    "***"
   ]
  },
  {
   "cell_type": "markdown",
   "id": "b1821ae1-c2f1-417b-b303-83eb4d7ec8e9",
   "metadata": {},
   "source": [
    "## Deutsch's algorithm with Random Function"
   ]
  },
  {
   "cell_type": "code",
   "execution_count": 30,
   "id": "d1ea6c2b-e682-43a5-99b4-da83f8fffdfe",
   "metadata": {},
   "outputs": [],
   "source": [
    "# Qiskit itself\n",
    "import qiskit\n",
    "\n",
    "# Aer simulator.\n",
    "import qiskit.providers.aer as aer\n",
    "\n",
    "# Diagrams.\n",
    "import matplotlib.pyplot as plt\n",
    "\n",
    "# Random numbers.\n",
    "import random\n",
    "\n",
    "# Change pyplot style.\n",
    "plt.style.use('ggplot')"
   ]
  },
  {
   "cell_type": "code",
   "execution_count": 31,
   "id": "59724521-d497-44b2-906d-fec4b3b050f4",
   "metadata": {},
   "outputs": [],
   "source": [
    "# Return a random (part of) circuit - implementing the quantum oracle for f.\n",
    "def random_f():\n",
    "    # Create a circuit with 2 qubits, 1 classical bit.\n",
    "    circuit = qiskit.QuantumCircuit(2, 1)\n",
    "    \n",
    "    # Pick one of the four functions at random.\n",
    "    f_number = random.randint(1, 4)\n",
    "    \n",
    "    # 1: Constant 0 function. f(0) = f(1) = 0.\n",
    "    # 2: Constant 1 function. f(0) = f(1) = 1.\n",
    "    # 3: Balanced identity function. f(0) = 0, f(1) = 1.\n",
    "    # 4: Balanced not function. f(0) = 1, f(1) = 0.\n",
    "    \n",
    "    if f_number == 1:\n",
    "        # Apply Identity gate to second qubit.\n",
    "        circuit.i(1)\n",
    "    elif f_number == 2:\n",
    "        # Apply Pauli x gate to second qubit.\n",
    "        circuit.x(1)\n",
    "    elif f_number == 3:\n",
    "        # Apply CNOT gate to from first to second qubit.\n",
    "        circuit.cnot(0, 1)\n",
    "    elif f_number == 4:\n",
    "        # Apply CNOT gate to from first to second qubit.\n",
    "        circuit.cnot(0, 1)\n",
    "        # Apply Pauli x gate to second qubit.\n",
    "        circuit.x(1)\n",
    "    else:\n",
    "        print(\"Error!\")\n",
    "        \n",
    "    # Return the circuit.\n",
    "    return circuit"
   ]
  },
  {
   "cell_type": "markdown",
   "id": "2f9658a6-9947-4ca2-adf0-61d0bab92f1b",
   "metadata": {},
   "source": [
    "### Create the first part of a circuit\n",
    "***"
   ]
  },
  {
   "cell_type": "code",
   "execution_count": 32,
   "id": "85872ce2-e2f8-441c-b072-80beb4dc620c",
   "metadata": {},
   "outputs": [
    {
     "data": {
      "image/png": "[encoded data removed]",
      "text/plain": [
       "<Figure size 480.694x368.424 with 1 Axes>"
      ]
     },
     "execution_count": 32,
     "metadata": {},
     "output_type": "execute_result"
    }
   ],
   "source": [
    "# Create a quantum circuit.\n",
    "circuit = qiskit.QuantumCircuit(2, 1)\n",
    "\n",
    "# Initialise the first qubit to |0>.\n",
    "circuit.initialize([1, 0], 0)\n",
    "\n",
    "# Initialise the second qubit to |1>.\n",
    "circuit.initialize([0, 1], 1)\n",
    "\n",
    "# Apply a Hadamard gate to each qubit.\n",
    "circuit.h((0, 1))\n",
    "\n",
    "# Separate parts of circuit.\n",
    "circuit.barrier()\n",
    "\n",
    "# Draw the circuit.\n",
    "circuit.draw(output='mpl', scale=1.8)"
   ]
  },
  {
   "cell_type": "markdown",
   "id": "8ada890c-cd65-44fc-8ccf-579c2ba62fba",
   "metadata": {},
   "source": [
    "### Create the second part of the circuit\n",
    "***"
   ]
  },
  {
   "cell_type": "code",
   "execution_count": 33,
   "id": "33d3a66d-c6c6-4c76-91e5-58cbd86007c9",
   "metadata": {},
   "outputs": [
    {
     "data": {
      "image/png": "[encoded data removed]",
      "text/plain": [
       "<Figure size 805.774x368.424 with 1 Axes>"
      ]
     },
     "execution_count": 33,
     "metadata": {},
     "output_type": "execute_result"
    }
   ],
   "source": [
    "# Append the random_f() circuit to circuit.\n",
    "circuit.compose(random_f(), inplace=True)\n",
    "\n",
    "# Separate parts of circuit.\n",
    "circuit.barrier()\n",
    "\n",
    "# Draw the circuit.\n",
    "circuit.draw(output='mpl', scale=1.8)"
   ]
  },
  {
   "cell_type": "markdown",
   "id": "c844f8f3-3342-40bb-91b1-de6614fa4129",
   "metadata": {},
   "source": [
    "### Create the third part of the circuit\n",
    "***"
   ]
  },
  {
   "cell_type": "code",
   "execution_count": 34,
   "id": "356e2ef5-1a56-41c2-a03a-7ffa68f8a363",
   "metadata": {},
   "outputs": [
    {
     "data": {
      "image/png": "[encoded data removed]",
      "text/plain": [
       "<Figure size 1022.49x368.424 with 1 Axes>"
      ]
     },
     "execution_count": 34,
     "metadata": {},
     "output_type": "execute_result"
    }
   ],
   "source": [
    "# Apply another Hadamard gate to the first qubit.\n",
    "circuit.h(0)\n",
    "\n",
    "# Measure the first qubit.\n",
    "circuit.measure(0, 0)\n",
    "\n",
    "# Draw the circuit.\n",
    "circuit.draw(output='mpl', scale=1.8)"
   ]
  },
  {
   "cell_type": "markdown",
   "id": "b10718d8-c2de-48c1-9579-563ca59bb784",
   "metadata": {},
   "source": [
    "### Simulate and decide\n",
    "***"
   ]
  },
  {
   "cell_type": "code",
   "execution_count": 35,
   "id": "0f729079-4432-453e-b220-602a61436884",
   "metadata": {},
   "outputs": [
    {
     "data": {
      "image/png": "[encoded data removed]",
      "text/plain": [
       "<Figure size 72x288 with 1 Axes>"
      ]
     },
     "execution_count": 35,
     "metadata": {},
     "output_type": "execute_result"
    }
   ],
   "source": [
    "# Create a simulation instance.\n",
    "simulator = aer.QasmSimulator()\n",
    "\n",
    "# Compile the circuit in the simluator.\n",
    "compcircuit = qiskit.transpile(circuit, simulator)\n",
    "\n",
    "# Simulate the circuit 1000 times.\n",
    "job = simulator.run(compcircuit, shots=1000)\n",
    "\n",
    "# Get the results.\n",
    "results = job.result()\n",
    "\n",
    "# Show the result counts.\n",
    "counts = results.get_counts()\n",
    "\n",
    "# Display histogram\n",
    "qiskit.visualization.plot_histogram(counts, figsize=(1, 4))"
   ]
  },
  {
   "cell_type": "markdown",
   "id": "4817d77f-6365-4a2e-9e39-778d3e39b384",
   "metadata": {},
   "source": [
    "***"
   ]
  },
  {
   "cell_type": "code",
   "execution_count": null,
   "id": "54d7a4e6-a626-46b0-adf2-733c255e3891",
   "metadata": {},
   "outputs": [],
   "source": []
  },
  {
   "cell_type": "code",
   "execution_count": null,
   "id": "35234dae-9233-4f99-85ef-38b375ce7e45",
   "metadata": {},
   "outputs": [],
   "source": []
  }
 ],
 "metadata": {
  "kernelspec": {
   "display_name": "Python 3 (ipykernel)",
   "language": "python",
   "name": "python3"
  },
  "language_info": {
   "codemirror_mode": {
    "name": "ipython",
    "version": 3
   },
   "file_extension": ".py",
   "mimetype": "text/x-python",
   "name": "python",
   "nbconvert_exporter": "python",
   "pygments_lexer": "ipython3",
   "version": "3.8.8"
  }
 },
 "nbformat": 4,
 "nbformat_minor": 5
}
